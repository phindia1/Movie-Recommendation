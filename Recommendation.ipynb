{
 "cells": [
  {
   "cell_type": "code",
   "execution_count": 1,
   "metadata": {
    "collapsed": true
   },
   "outputs": [],
   "source": [
    "import numpy as np\n",
    "import pandas as pd"
   ]
  },
  {
   "cell_type": "code",
   "execution_count": 2,
   "metadata": {
    "collapsed": false
   },
   "outputs": [
    {
     "name": "stderr",
     "output_type": "stream",
     "text": [
      "C:\\Users\\Parth\\Anaconda3\\lib\\site-packages\\lightfm\\_lightfm_fast.py:9: UserWarning: LightFM was compiled without OpenMP support. Only a single thread will be used.\n",
      "  warnings.warn('LightFM was compiled without OpenMP support. '\n"
     ]
    }
   ],
   "source": [
    "from lightfm.datasets import fetch_movielens\n",
    "from lightfm import LightFM"
   ]
  },
  {
   "cell_type": "code",
   "execution_count": 3,
   "metadata": {
    "collapsed": true
   },
   "outputs": [],
   "source": [
    "data = fetch_movielens(min_rating= 3.0, genre_features = True)"
   ]
  },
  {
   "cell_type": "code",
   "execution_count": 4,
   "metadata": {
    "collapsed": false
   },
   "outputs": [
    {
     "name": "stdout",
     "output_type": "stream",
     "text": [
      "<943x1682 sparse matrix of type '<class 'numpy.int32'>'\n",
      "\twith 74627 stored elements in COOrdinate format>\n"
     ]
    }
   ],
   "source": [
    "print(repr(data['train']))"
   ]
  },
  {
   "cell_type": "code",
   "execution_count": 5,
   "metadata": {
    "collapsed": false
   },
   "outputs": [
    {
     "name": "stdout",
     "output_type": "stream",
     "text": [
      "<943x1682 sparse matrix of type '<class 'numpy.int32'>'\n",
      "\twith 7893 stored elements in COOrdinate format>\n"
     ]
    }
   ],
   "source": [
    "print(repr(data['test']))"
   ]
  },
  {
   "cell_type": "code",
   "execution_count": 6,
   "metadata": {
    "collapsed": false
   },
   "outputs": [],
   "source": [
    "#def _binarize(dataset):\n",
    "#    dataset.data[positives] = 1.0\n",
    "#    dataset.data[np.logical_not(positives)] = -1.0\n",
    "#    return dataset\n",
    "#data = fetch_movielens(min_rating= 3.0)\n",
    "#train, test = _binarize(data['train']), _binarize(data['test'])"
   ]
  },
  {
   "cell_type": "code",
   "execution_count": 7,
   "metadata": {
    "collapsed": false
   },
   "outputs": [],
   "source": [
    "genre = pd.read_csv(\"C:\\\\Users\\\\Parth\\\\Desktop\\\\movielens\\\\ml-100k\\\\u.genre\")"
   ]
  },
  {
   "cell_type": "code",
   "execution_count": 8,
   "metadata": {
    "collapsed": false
   },
   "outputs": [
    {
     "data": {
      "text/html": [
       "<div>\n",
       "<table border=\"1\" class=\"dataframe\">\n",
       "  <thead>\n",
       "    <tr style=\"text-align: right;\">\n",
       "      <th></th>\n",
       "      <th>unknown|0</th>\n",
       "    </tr>\n",
       "  </thead>\n",
       "  <tbody>\n",
       "    <tr>\n",
       "      <th>0</th>\n",
       "      <td>Action|1</td>\n",
       "    </tr>\n",
       "    <tr>\n",
       "      <th>1</th>\n",
       "      <td>Adventure|2</td>\n",
       "    </tr>\n",
       "    <tr>\n",
       "      <th>2</th>\n",
       "      <td>Animation|3</td>\n",
       "    </tr>\n",
       "    <tr>\n",
       "      <th>3</th>\n",
       "      <td>Children's|4</td>\n",
       "    </tr>\n",
       "    <tr>\n",
       "      <th>4</th>\n",
       "      <td>Comedy|5</td>\n",
       "    </tr>\n",
       "    <tr>\n",
       "      <th>5</th>\n",
       "      <td>Crime|6</td>\n",
       "    </tr>\n",
       "    <tr>\n",
       "      <th>6</th>\n",
       "      <td>Documentary|7</td>\n",
       "    </tr>\n",
       "    <tr>\n",
       "      <th>7</th>\n",
       "      <td>Drama|8</td>\n",
       "    </tr>\n",
       "    <tr>\n",
       "      <th>8</th>\n",
       "      <td>Fantasy|9</td>\n",
       "    </tr>\n",
       "    <tr>\n",
       "      <th>9</th>\n",
       "      <td>Film-Noir|10</td>\n",
       "    </tr>\n",
       "    <tr>\n",
       "      <th>10</th>\n",
       "      <td>Horror|11</td>\n",
       "    </tr>\n",
       "    <tr>\n",
       "      <th>11</th>\n",
       "      <td>Musical|12</td>\n",
       "    </tr>\n",
       "    <tr>\n",
       "      <th>12</th>\n",
       "      <td>Mystery|13</td>\n",
       "    </tr>\n",
       "    <tr>\n",
       "      <th>13</th>\n",
       "      <td>Romance|14</td>\n",
       "    </tr>\n",
       "    <tr>\n",
       "      <th>14</th>\n",
       "      <td>Sci-Fi|15</td>\n",
       "    </tr>\n",
       "    <tr>\n",
       "      <th>15</th>\n",
       "      <td>Thriller|16</td>\n",
       "    </tr>\n",
       "    <tr>\n",
       "      <th>16</th>\n",
       "      <td>War|17</td>\n",
       "    </tr>\n",
       "    <tr>\n",
       "      <th>17</th>\n",
       "      <td>Western|18</td>\n",
       "    </tr>\n",
       "  </tbody>\n",
       "</table>\n",
       "</div>"
      ],
      "text/plain": [
       "        unknown|0\n",
       "0        Action|1\n",
       "1     Adventure|2\n",
       "2     Animation|3\n",
       "3    Children's|4\n",
       "4        Comedy|5\n",
       "5         Crime|6\n",
       "6   Documentary|7\n",
       "7         Drama|8\n",
       "8       Fantasy|9\n",
       "9    Film-Noir|10\n",
       "10      Horror|11\n",
       "11     Musical|12\n",
       "12     Mystery|13\n",
       "13     Romance|14\n",
       "14      Sci-Fi|15\n",
       "15    Thriller|16\n",
       "16         War|17\n",
       "17     Western|18"
      ]
     },
     "execution_count": 8,
     "metadata": {},
     "output_type": "execute_result"
    }
   ],
   "source": [
    "genre"
   ]
  },
  {
   "cell_type": "code",
   "execution_count": 11,
   "metadata": {
    "collapsed": false
   },
   "outputs": [
    {
     "name": "stdout",
     "output_type": "stream",
     "text": [
      "  (0, 0)\t5\n",
      "  (0, 1)\t3\n",
      "  (0, 2)\t4\n",
      "  (0, 3)\t3\n",
      "  (0, 4)\t3\n",
      "  (0, 5)\t5\n",
      "  (0, 6)\t4\n",
      "  (0, 8)\t5\n",
      "  (0, 9)\t3\n",
      "  (0, 11)\t5\n",
      "  (0, 12)\t5\n",
      "  (0, 13)\t5\n",
      "  (0, 14)\t5\n",
      "  (0, 15)\t5\n",
      "  (0, 16)\t3\n",
      "  (0, 17)\t4\n",
      "  (0, 18)\t5\n",
      "  (0, 21)\t4\n",
      "  (0, 22)\t4\n",
      "  (0, 23)\t3\n",
      "  (0, 24)\t4\n",
      "  (0, 25)\t3\n",
      "  (0, 27)\t4\n",
      "  (0, 29)\t3\n",
      "  (0, 30)\t3\n",
      "  :\t:\n",
      "  (942, 613)\t5\n",
      "  (942, 624)\t3\n",
      "  (942, 654)\t4\n",
      "  (942, 671)\t5\n",
      "  (942, 684)\t4\n",
      "  (942, 716)\t4\n",
      "  (942, 720)\t5\n",
      "  (942, 721)\t3\n",
      "  (942, 731)\t4\n",
      "  (942, 738)\t4\n",
      "  (942, 762)\t4\n",
      "  (942, 764)\t3\n",
      "  (942, 793)\t3\n",
      "  (942, 795)\t3\n",
      "  (942, 815)\t4\n",
      "  (942, 823)\t4\n",
      "  (942, 824)\t3\n",
      "  (942, 839)\t4\n",
      "  (942, 927)\t5\n",
      "  (942, 942)\t5\n",
      "  (942, 1043)\t3\n",
      "  (942, 1073)\t4\n",
      "  (942, 1187)\t3\n",
      "  (942, 1227)\t3\n",
      "  (942, 1329)\t3\n"
     ]
    }
   ],
   "source": [
    "print(data['train'])"
   ]
  },
  {
   "cell_type": "code",
   "execution_count": 12,
   "metadata": {
    "collapsed": false
   },
   "outputs": [
    {
     "name": "stdout",
     "output_type": "stream",
     "text": [
      "  (0, 19)\t4\n",
      "  (0, 32)\t4\n",
      "  (0, 60)\t4\n",
      "  (0, 116)\t3\n",
      "  (0, 159)\t4\n",
      "  (0, 170)\t5\n",
      "  (0, 188)\t3\n",
      "  (0, 201)\t5\n",
      "  (0, 264)\t4\n",
      "  (1, 12)\t4\n",
      "  (1, 49)\t5\n",
      "  (1, 250)\t5\n",
      "  (1, 279)\t3\n",
      "  (1, 280)\t3\n",
      "  (1, 289)\t3\n",
      "  (1, 291)\t4\n",
      "  (1, 296)\t4\n",
      "  (1, 311)\t3\n",
      "  (2, 327)\t5\n",
      "  (2, 330)\t4\n",
      "  (2, 333)\t3\n",
      "  (2, 342)\t3\n",
      "  (3, 49)\t5\n",
      "  (3, 259)\t4\n",
      "  (3, 263)\t3\n",
      "  :\t:\n",
      "  (940, 123)\t5\n",
      "  (940, 146)\t4\n",
      "  (940, 180)\t5\n",
      "  (940, 256)\t4\n",
      "  (940, 257)\t4\n",
      "  (940, 474)\t4\n",
      "  (940, 992)\t4\n",
      "  (941, 116)\t4\n",
      "  (941, 199)\t4\n",
      "  (941, 260)\t4\n",
      "  (941, 322)\t3\n",
      "  (941, 422)\t5\n",
      "  (941, 426)\t5\n",
      "  (941, 486)\t4\n",
      "  (941, 583)\t4\n",
      "  (941, 603)\t4\n",
      "  (941, 614)\t3\n",
      "  (942, 10)\t4\n",
      "  (942, 57)\t4\n",
      "  (942, 110)\t4\n",
      "  (942, 185)\t5\n",
      "  (942, 214)\t5\n",
      "  (942, 231)\t4\n",
      "  (942, 355)\t4\n",
      "  (942, 807)\t4\n"
     ]
    }
   ],
   "source": [
    "print(data['test'])"
   ]
  },
  {
   "cell_type": "code",
   "execution_count": 13,
   "metadata": {
    "collapsed": false
   },
   "outputs": [
    {
     "name": "stdout",
     "output_type": "stream",
     "text": [
      "['Toy Story (1995)' 'GoldenEye (1995)' 'Four Rooms (1995)' ...,\n",
      " 'Sliding Doors (1998)' 'You So Crazy (1994)'\n",
      " 'Scream of Stone (Schrei aus Stein) (1991)']\n"
     ]
    }
   ],
   "source": [
    "print(data['item_labels'])"
   ]
  },
  {
   "cell_type": "code",
   "execution_count": 14,
   "metadata": {
    "collapsed": false
   },
   "outputs": [
    {
     "name": "stdout",
     "output_type": "stream",
     "text": [
      "  (0, 0)\t1.0\n",
      "  (0, 1685)\t1.0\n",
      "  (0, 1686)\t1.0\n",
      "  (0, 1687)\t1.0\n",
      "  (1, 1)\t1.0\n",
      "  (1, 1683)\t1.0\n",
      "  (1, 1684)\t1.0\n",
      "  (1, 1698)\t1.0\n",
      "  (2, 2)\t1.0\n",
      "  (2, 1698)\t1.0\n",
      "  (3, 3)\t1.0\n",
      "  (3, 1683)\t1.0\n",
      "  (3, 1687)\t1.0\n",
      "  (3, 1690)\t1.0\n",
      "  (4, 4)\t1.0\n",
      "  (4, 1688)\t1.0\n",
      "  (4, 1690)\t1.0\n",
      "  (4, 1698)\t1.0\n",
      "  (5, 5)\t1.0\n",
      "  (5, 1690)\t1.0\n",
      "  (6, 6)\t1.0\n",
      "  (6, 1690)\t1.0\n",
      "  (6, 1697)\t1.0\n",
      "  (7, 7)\t1.0\n",
      "  (7, 1686)\t1.0\n",
      "  :\t:\n",
      "  (1671, 1671)\t1.0\n",
      "  (1671, 1690)\t1.0\n",
      "  (1672, 1672)\t1.0\n",
      "  (1672, 1683)\t1.0\n",
      "  (1672, 1698)\t1.0\n",
      "  (1673, 1673)\t1.0\n",
      "  (1673, 1690)\t1.0\n",
      "  (1674, 1674)\t1.0\n",
      "  (1674, 1690)\t1.0\n",
      "  (1675, 1675)\t1.0\n",
      "  (1675, 1690)\t1.0\n",
      "  (1676, 1676)\t1.0\n",
      "  (1676, 1690)\t1.0\n",
      "  (1677, 1677)\t1.0\n",
      "  (1677, 1690)\t1.0\n",
      "  (1678, 1678)\t1.0\n",
      "  (1678, 1696)\t1.0\n",
      "  (1678, 1698)\t1.0\n",
      "  (1679, 1679)\t1.0\n",
      "  (1679, 1690)\t1.0\n",
      "  (1679, 1696)\t1.0\n",
      "  (1680, 1680)\t1.0\n",
      "  (1680, 1687)\t1.0\n",
      "  (1681, 1681)\t1.0\n",
      "  (1681, 1690)\t1.0\n"
     ]
    }
   ],
   "source": [
    "print(data['item_features'])"
   ]
  },
  {
   "cell_type": "code",
   "execution_count": 15,
   "metadata": {
    "collapsed": false
   },
   "outputs": [
    {
     "name": "stdout",
     "output_type": "stream",
     "text": [
      "['Toy Story (1995)' 'GoldenEye (1995)' 'Four Rooms (1995)' ...,\n",
      " 'genre:Thriller' 'genre:War' 'genre:Western']\n"
     ]
    }
   ],
   "source": [
    "print(data['item_feature_labels'])"
   ]
  },
  {
   "cell_type": "code",
   "execution_count": 16,
   "metadata": {
    "collapsed": false
   },
   "outputs": [
    {
     "name": "stdout",
     "output_type": "stream",
     "text": [
      "['Toy Story (1995)' 'GoldenEye (1995)' 'Four Rooms (1995)' ...,\n",
      " 'genre:Thriller' 'genre:War' 'genre:Western']\n"
     ]
    }
   ],
   "source": [
    " print(data['item_feature_labels'])"
   ]
  },
  {
   "cell_type": "code",
   "execution_count": 17,
   "metadata": {
    "collapsed": true
   },
   "outputs": [],
   "source": [
    "model = LightFM(loss = 'warp')"
   ]
  },
  {
   "cell_type": "code",
   "execution_count": 18,
   "metadata": {
    "collapsed": false
   },
   "outputs": [
    {
     "data": {
      "text/plain": [
       "<lightfm.lightfm.LightFM at 0x2a93fd25400>"
      ]
     },
     "execution_count": 18,
     "metadata": {},
     "output_type": "execute_result"
    }
   ],
   "source": [
    "model.fit(data['train'], epochs=30, num_threads= 2)"
   ]
  },
  {
   "cell_type": "code",
   "execution_count": 21,
   "metadata": {
    "collapsed": false
   },
   "outputs": [
    {
     "name": "stdout",
     "output_type": "stream",
     "text": [
      "User 12\n",
      "  Known positives:\n",
      "      Toy Story (1995)\n",
      "      GoldenEye (1995)\n",
      "      Get Shorty (1995)\n",
      "  Recommended:\n",
      "      Raiders of the Lost Ark (1981)\n",
      "      Back to the Future (1985)\n",
      "      Butch Cassidy and the Sundance Kid (1969)\n",
      "User 50\n",
      "  Known positives:\n",
      "      Star Wars (1977)\n",
      "      Mr. Smith Goes to Washington (1939)\n",
      "      Die Hard (1988)\n",
      "  Recommended:\n",
      "      Raiders of the Lost Ark (1981)\n",
      "      Star Wars (1977)\n",
      "      Monty Python and the Holy Grail (1974)\n",
      "User 60\n",
      "  Known positives:\n",
      "      Contact (1997)\n",
      "      Full Monty, The (1997)\n",
      "      Air Force One (1997)\n",
      "  Recommended:\n",
      "      Air Force One (1997)\n",
      "      Contact (1997)\n",
      "      English Patient, The (1996)\n"
     ]
    }
   ],
   "source": [
    "def sample_recommedation(model, data, user_ids):\n",
    "    n_users, n_items =data ['train'].shape\n",
    "    for user_id in user_ids:\n",
    "        known_positives = data['item_labels'][data['train'].tocsr()[user_id].indices]\n",
    "        scores = model.predict(user_id, np.arange(n_items))\n",
    "        top_items = data['item_labels'][np.argsort(-scores)]\n",
    "        print(\"User %s\" %user_id)\n",
    "        print(\"  Known positives:\")\n",
    "        for x in known_positives[:3]:\n",
    "            print(\"      %s\" %x)\n",
    "        print(\"  Recommended:\")\n",
    "        for x in top_items[:3]:\n",
    "            print(\"      %s\"%x)\n",
    "sample_recommedation(model,data,[12,50,60])\n",
    "    "
   ]
  },
  {
   "cell_type": "code",
   "execution_count": null,
   "metadata": {
    "collapsed": false
   },
   "outputs": [],
   "source": []
  },
  {
   "cell_type": "code",
   "execution_count": null,
   "metadata": {
    "collapsed": true
   },
   "outputs": [],
   "source": []
  }
 ],
 "metadata": {
  "kernelspec": {
   "display_name": "Python 3",
   "language": "python",
   "name": "python3"
  },
  "language_info": {
   "codemirror_mode": {
    "name": "ipython",
    "version": 3
   },
   "file_extension": ".py",
   "mimetype": "text/x-python",
   "name": "python",
   "nbconvert_exporter": "python",
   "pygments_lexer": "ipython3",
   "version": "3.6.0"
  }
 },
 "nbformat": 4,
 "nbformat_minor": 2
}
